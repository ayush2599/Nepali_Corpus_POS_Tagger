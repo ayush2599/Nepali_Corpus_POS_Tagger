{
 "cells": [
  {
   "cell_type": "code",
   "execution_count": 3,
   "metadata": {},
   "outputs": [
    {
     "name": "stdout",
     "output_type": "stream",
     "text": [
      "Enter the word: राम\n",
      "Total Occurences 5544\n",
      "Categories      Total Count\n",
      "------------  -------------\n",
      "art                     653\n",
      "corona                   83\n",
      "economy                 414\n",
      "foreign                 325\n",
      "health                  572\n",
      "interview               854\n",
      "opinion                1043\n",
      "politics                430\n",
      "society                 555\n",
      "sports                  192\n",
      "technology              177\n",
      "world                   246\n"
     ]
    },
    {
     "data": {
      "image/png": "[encoded data removed]",
      "text/plain": [
       "<Figure size 1440x720 with 1 Axes>"
      ]
     },
     "metadata": {
      "needs_background": "light"
     },
     "output_type": "display_data"
    }
   ],
   "source": [
    "import os\n",
    "import nltk\n",
    "import matplotlib.pyplot as plt\n",
    "from tabulate import tabulate\n",
    "import numpy as np\n",
    "\n",
    "from nltk.tokenize import word_tokenize\n",
    "files = []\n",
    "inp=input(\"Enter the word: \")\n",
    "occurences=0\n",
    "path=r\"E:\\VIT\\Sem 6\\NLP\\JComp\\Corpus\"\n",
    "all_files = os.listdir(path)\n",
    "new_list=[]\n",
    "categories_found=[]\n",
    "categories_count=[]\n",
    "xyz={}\n",
    "uvw=[]\n",
    "headers=['Categories','Total Count']\n",
    "\n",
    "for fle in all_files:\n",
    "    outer_path=os.path.join(path, fle)\n",
    "    for folders in (os.listdir(outer_path),\"r\"):\n",
    "        for fol in folders:\n",
    "            if(fol != 'r'):\n",
    "                inner_path=os.path.join(outer_path, fol)\n",
    "                for docs in (os.listdir(inner_path),\"r\"):\n",
    "                    for fl in docs:\n",
    "                        if(fl != 'r'):\n",
    "                            categories_path=os.path.join(inner_path, fl)\n",
    "                            with open(categories_path,\"r\",encoding='utf-8') as f:\n",
    "                                text = f.read()\n",
    "                                text=text.replace(\"\\n\",\"\")\n",
    "                                text=text.replace(\"?\",\"।\")\n",
    "                                new_list.append(text)\n",
    "                                sentences=text.split(u\"।\")\n",
    "                                for i in range(0,len(sentences)):\n",
    "                                    if sentences[i].find(inp)>=0:\n",
    "                                        cat=os.path.basename(os.path.dirname(categories_path))\n",
    "                                        #print(\"Category->\",cat)\n",
    "                                        #print(sentences[i])\n",
    "                                        occurences=occurences+1\n",
    "                                        found=0\n",
    "                                        for i in range(0,len(categories_found)): \n",
    "                                            if categories_found[i].find(cat)>=0:  #if found\n",
    "                                                position=i\n",
    "                                                found=1\n",
    "                                        if(found==1):\n",
    "                                            categories_count[position]=categories_count[position]+1\n",
    "                                            #print([categories_found[position]])\n",
    "                                            #print(categories_count[position])\n",
    "                                            if( categories_found[position] in xyz.keys()):\n",
    "                                                temp={categories_found[position]:categories_count[position]}\n",
    "                                                xyz.update(temp)\n",
    "                                                #uvw.append([categories_found[position],categories_count[position]])\n",
    "                                            else:\n",
    "                                                xyz[categories_found[position]]=categories_count[position]\n",
    "                                        else:\n",
    "                                            categories_found.append(cat)\n",
    "                                            categories_count.append(1)\n",
    "                                            #xyz[cat]=xyz[cat]+1\n",
    "print(\"Total Occurences\",occurences)\n",
    "for key in xyz:\n",
    "    uvw.append([key,xyz[key]])\n",
    "#for i in range(len(categories_found)):\n",
    "    #print(categories_found[i]+\" - > \"+categories_count[i])\n",
    " #   print(\"%s %s\" % (categories_found[i], categories_count[i]))\n",
    "print(tabulate(uvw,headers=headers))\n",
    "y_pos = np.arange(len(categories_found))\n",
    "plt.figure(figsize=(20, 10))\n",
    "plt.bar(y_pos, categories_count, align='center', alpha=0.5, width=0.8)\n",
    "plt.xticks(y_pos, categories_found)\n",
    "plt.xlabel('Categories')\n",
    "plt.ylabel('Total Count')\n",
    "plt.title('NEPALI CORPUS')\n",
    "plt.savefig('my_plot.png')\n",
    "plt.show()\n"
   ]
  },
  {
   "cell_type": "code",
   "execution_count": null,
   "metadata": {},
   "outputs": [],
   "source": []
  },
  {
   "cell_type": "code",
   "execution_count": null,
   "metadata": {},
   "outputs": [],
   "source": []
  },
  {
   "cell_type": "code",
   "execution_count": null,
   "metadata": {},
   "outputs": [],
   "source": []
  },
  {
   "cell_type": "code",
   "execution_count": null,
   "metadata": {},
   "outputs": [],
   "source": []
  },
  {
   "cell_type": "code",
   "execution_count": null,
   "metadata": {},
   "outputs": [],
   "source": []
  },
  {
   "cell_type": "code",
   "execution_count": null,
   "metadata": {},
   "outputs": [],
   "source": []
  },
  {
   "cell_type": "code",
   "execution_count": null,
   "metadata": {},
   "outputs": [],
   "source": []
  },
  {
   "cell_type": "code",
   "execution_count": null,
   "metadata": {},
   "outputs": [],
   "source": []
  },
  {
   "cell_type": "code",
   "execution_count": null,
   "metadata": {},
   "outputs": [],
   "source": []
  },
  {
   "cell_type": "code",
   "execution_count": null,
   "metadata": {},
   "outputs": [],
   "source": []
  },
  {
   "cell_type": "code",
   "execution_count": null,
   "metadata": {},
   "outputs": [],
   "source": []
  },
  {
   "cell_type": "code",
   "execution_count": null,
   "metadata": {},
   "outputs": [],
   "source": []
  },
  {
   "cell_type": "code",
   "execution_count": null,
   "metadata": {},
   "outputs": [],
   "source": []
  },
  {
   "cell_type": "code",
   "execution_count": null,
   "metadata": {},
   "outputs": [],
   "source": []
  },
  {
   "cell_type": "code",
   "execution_count": null,
   "metadata": {},
   "outputs": [],
   "source": []
  },
  {
   "cell_type": "code",
   "execution_count": null,
   "metadata": {},
   "outputs": [],
   "source": []
  },
  {
   "cell_type": "code",
   "execution_count": null,
   "metadata": {},
   "outputs": [],
   "source": []
  },
  {
   "cell_type": "code",
   "execution_count": null,
   "metadata": {},
   "outputs": [],
   "source": []
  },
  {
   "cell_type": "code",
   "execution_count": null,
   "metadata": {},
   "outputs": [],
   "source": []
  },
  {
   "cell_type": "code",
   "execution_count": null,
   "metadata": {},
   "outputs": [],
   "source": []
  },
  {
   "cell_type": "code",
   "execution_count": null,
   "metadata": {},
   "outputs": [],
   "source": []
  },
  {
   "cell_type": "code",
   "execution_count": null,
   "metadata": {},
   "outputs": [],
   "source": []
  },
  {
   "cell_type": "code",
   "execution_count": null,
   "metadata": {},
   "outputs": [],
   "source": []
  },
  {
   "cell_type": "code",
   "execution_count": null,
   "metadata": {},
   "outputs": [],
   "source": []
  },
  {
   "cell_type": "code",
   "execution_count": null,
   "metadata": {},
   "outputs": [],
   "source": []
  },
  {
   "cell_type": "code",
   "execution_count": null,
   "metadata": {},
   "outputs": [],
   "source": []
  },
  {
   "cell_type": "code",
   "execution_count": null,
   "metadata": {},
   "outputs": [],
   "source": []
  },
  {
   "cell_type": "code",
   "execution_count": null,
   "metadata": {},
   "outputs": [],
   "source": []
  },
  {
   "cell_type": "code",
   "execution_count": null,
   "metadata": {},
   "outputs": [],
   "source": []
  },
  {
   "cell_type": "code",
   "execution_count": null,
   "metadata": {},
   "outputs": [],
   "source": []
  },
  {
   "cell_type": "code",
   "execution_count": null,
   "metadata": {},
   "outputs": [],
   "source": []
  },
  {
   "cell_type": "code",
   "execution_count": null,
   "metadata": {},
   "outputs": [],
   "source": []
  },
  {
   "cell_type": "code",
   "execution_count": null,
   "metadata": {},
   "outputs": [],
   "source": []
  },
  {
   "cell_type": "code",
   "execution_count": null,
   "metadata": {},
   "outputs": [],
   "source": []
  },
  {
   "cell_type": "code",
   "execution_count": null,
   "metadata": {},
   "outputs": [],
   "source": []
  },
  {
   "cell_type": "code",
   "execution_count": null,
   "metadata": {},
   "outputs": [],
   "source": []
  },
  {
   "cell_type": "code",
   "execution_count": null,
   "metadata": {},
   "outputs": [],
   "source": []
  },
  {
   "cell_type": "code",
   "execution_count": null,
   "metadata": {},
   "outputs": [],
   "source": []
  },
  {
   "cell_type": "code",
   "execution_count": null,
   "metadata": {},
   "outputs": [],
   "source": []
  },
  {
   "cell_type": "code",
   "execution_count": null,
   "metadata": {},
   "outputs": [],
   "source": []
  },
  {
   "cell_type": "code",
   "execution_count": null,
   "metadata": {},
   "outputs": [],
   "source": []
  },
  {
   "cell_type": "code",
   "execution_count": null,
   "metadata": {},
   "outputs": [],
   "source": []
  },
  {
   "cell_type": "code",
   "execution_count": null,
   "metadata": {},
   "outputs": [],
   "source": []
  },
  {
   "cell_type": "code",
   "execution_count": null,
   "metadata": {},
   "outputs": [],
   "source": []
  },
  {
   "cell_type": "code",
   "execution_count": null,
   "metadata": {},
   "outputs": [],
   "source": []
  },
  {
   "cell_type": "code",
   "execution_count": null,
   "metadata": {},
   "outputs": [],
   "source": []
  },
  {
   "cell_type": "code",
   "execution_count": null,
   "metadata": {},
   "outputs": [],
   "source": []
  },
  {
   "cell_type": "code",
   "execution_count": null,
   "metadata": {},
   "outputs": [],
   "source": []
  },
  {
   "cell_type": "code",
   "execution_count": null,
   "metadata": {},
   "outputs": [],
   "source": []
  },
  {
   "cell_type": "code",
   "execution_count": null,
   "metadata": {},
   "outputs": [],
   "source": []
  },
  {
   "cell_type": "code",
   "execution_count": null,
   "metadata": {},
   "outputs": [],
   "source": []
  },
  {
   "cell_type": "code",
   "execution_count": null,
   "metadata": {},
   "outputs": [],
   "source": []
  },
  {
   "cell_type": "code",
   "execution_count": null,
   "metadata": {},
   "outputs": [],
   "source": []
  },
  {
   "cell_type": "code",
   "execution_count": null,
   "metadata": {},
   "outputs": [],
   "source": []
  },
  {
   "cell_type": "code",
   "execution_count": null,
   "metadata": {},
   "outputs": [],
   "source": []
  },
  {
   "cell_type": "code",
   "execution_count": null,
   "metadata": {},
   "outputs": [],
   "source": []
  },
  {
   "cell_type": "code",
   "execution_count": null,
   "metadata": {},
   "outputs": [],
   "source": []
  },
  {
   "cell_type": "code",
   "execution_count": null,
   "metadata": {},
   "outputs": [],
   "source": []
  },
  {
   "cell_type": "code",
   "execution_count": null,
   "metadata": {},
   "outputs": [],
   "source": []
  }
 ],
 "metadata": {
  "kernelspec": {
   "display_name": "Python 3",
   "language": "python",
   "name": "python3"
  },
  "language_info": {
   "codemirror_mode": {
    "name": "ipython",
    "version": 3
   },
   "file_extension": ".py",
   "mimetype": "text/x-python",
   "name": "python",
   "nbconvert_exporter": "python",
   "pygments_lexer": "ipython3",
   "version": "3.7.3"
  }
 },
 "nbformat": 4,
 "nbformat_minor": 2
}
