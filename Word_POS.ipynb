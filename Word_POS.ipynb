{
 "cells": [
  {
   "cell_type": "code",
   "execution_count": 2,
   "metadata": {},
   "outputs": [],
   "source": [
    "import os\n",
    "import nltk\n",
    "import matplotlib.pyplot as plt "
   ]
  },
  {
   "cell_type": "code",
   "execution_count": 54,
   "metadata": {},
   "outputs": [
    {
     "name": "stdout",
     "output_type": "stream",
     "text": [
      "Enter the word: आकांक्षा\n",
      "आकांक्षा -> नाम\n"
     ]
    }
   ],
   "source": [
    "from nltk.tokenize import word_tokenize\n",
    "\n",
    "def find_category(fle):\n",
    "    if fle=='naam_small.txt':\n",
    "        print(inp+\" -> नाम\")\n",
    "    elif fle=='bisesan_small.txt':\n",
    "        print(inp+\" -> विशेषण\")\n",
    "    elif fle=='kriyapadh_small.txt':\n",
    "        print(inp+\" -> क्रियापद\")\n",
    "    elif fle=='sarvanam.txt':\n",
    "        print(inp+\" -> सर्वनाम\")\n",
    "    elif fle=='nipat.txt':\n",
    "        print(inp+\" -> निपत\")\n",
    "    elif fle=='bismayadibodhak.txt':\n",
    "        print(inp+\" -> बिस्मयादिबोधक\")\n",
    "    elif fle=='samyojak.txt':\n",
    "        print(inp+\" -> संयोजक\")\n",
    "    elif fle=='namyogi.txt':\n",
    "        print(inp+\" -> नामयोगी\") \n",
    "    elif fle=='kriyabisesan.txt':\n",
    "        print(inp+\" -> क्रियाविशेषण\")\n",
    "    else:\n",
    "        print(\"error\")\n",
    "        \n",
    "files = []\n",
    "inp=input(\"Enter the word: \")\n",
    "occurences=0\n",
    "path=r\"E:\\VIT\\Sem 6\\NLP\\JComp\\Dataset\"\n",
    "all_files = os.listdir(path)\n",
    "new_list=[]\n",
    "categories_found=[]\n",
    "categories_count=[0]\n",
    "#print(all_files)\n",
    "for fle in all_files:\n",
    "    outer_path=os.path.join(path, fle)\n",
    "    with open(outer_path,\"r+\",encoding='utf-8') as f:\n",
    "        text = f.read()\n",
    "       # print(text)\n",
    "       # text=text.replace(\"\\n\",\"\")\n",
    "        new_list.append(text)\n",
    "        words=text.split(\"\\n\")\n",
    "        found=0\n",
    "        for i in range(0,len(words)):\n",
    "            if words[i]==inp:\n",
    "                found=1\n",
    "                find_category(fle)\n",
    "            elif (fle=='namyogi.txt' and inp.find(words[i])>0):\n",
    "                print(inp+\" -> नामयोगी\")\n",
    "                found=1\n",
    "            if found==1:\n",
    "                break\n",
    "    if found==1:\n",
    "        break"
   ]
  },
  {
   "cell_type": "code",
   "execution_count": null,
   "metadata": {},
   "outputs": [],
   "source": []
  },
  {
   "cell_type": "code",
   "execution_count": null,
   "metadata": {},
   "outputs": [],
   "source": []
  }
 ],
 "metadata": {
  "kernelspec": {
   "display_name": "Python 3",
   "language": "python",
   "name": "python3"
  },
  "language_info": {
   "codemirror_mode": {
    "name": "ipython",
    "version": 3
   },
   "file_extension": ".py",
   "mimetype": "text/x-python",
   "name": "python",
   "nbconvert_exporter": "python",
   "pygments_lexer": "ipython3",
   "version": "3.7.3"
  }
 },
 "nbformat": 4,
 "nbformat_minor": 2
}
