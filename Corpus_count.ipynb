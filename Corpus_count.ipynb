{
 "cells": [
  {
   "cell_type": "code",
   "execution_count": 6,
   "metadata": {},
   "outputs": [],
   "source": [
    "import os\n",
    "import nltk\n",
    "import matplotlib.pyplot as plt\n",
    "from tabulate import tabulate\n",
    "import numpy as np\n",
    "from nltk.tokenize import word_tokenize\n"
   ]
  },
  {
   "cell_type": "code",
   "execution_count": 14,
   "metadata": {},
   "outputs": [
    {
     "name": "stdout",
     "output_type": "stream",
     "text": [
      "Words Count : 2034786\n",
      "Sentence Count : 133424\n"
     ]
    }
   ],
   "source": [
    "files = []\n",
    "path=r\"E:\\VIT\\Sem 6\\NLP\\JComp\\Corpus\"\n",
    "all_files = os.listdir(path)\n",
    "word_count=0;\n",
    "sentence_count=0;\n",
    "\n",
    "for fle in all_files:\n",
    "    outer_path=os.path.join(path, fle)\n",
    "    for folders in (os.listdir(outer_path),\"r\"):\n",
    "        for fol in folders:\n",
    "            if(fol != 'r'):\n",
    "                inner_path=os.path.join(outer_path, fol)\n",
    "                for docs in (os.listdir(inner_path),\"r\"):\n",
    "                    for fl in docs:\n",
    "                        if(fl != 'r'):\n",
    "                            categories_path=os.path.join(inner_path, fl)\n",
    "                            with open(categories_path,\"r\",encoding='utf-8') as f:\n",
    "                                text = f.read()\n",
    "                                text=text.replace(\"\\n\",\"\")\n",
    "                                text=text.replace(\"?\",\"।\")\n",
    "                                new_list.append(text)\n",
    "                                sentences=text.split(u\"।\")\n",
    "                                for i in range(0,len(sentences)):\n",
    "                                    words=sentences[i].split(\" \")\n",
    "                                    for i in range(0,len(words)):\n",
    "                                        if(words[i]!=\"!\"):\n",
    "                                           word_count=word_count+1\n",
    "                                    sentence_count=sentence_count+1\n",
    "print(\"Words Count : \" + str(word_count))\n",
    "print(\"Sentence Count : \" + str(sentence_count))"
   ]
  },
  {
   "cell_type": "code",
   "execution_count": null,
   "metadata": {},
   "outputs": [],
   "source": []
  }
 ],
 "metadata": {
  "kernelspec": {
   "display_name": "Python 3",
   "language": "python",
   "name": "python3"
  },
  "language_info": {
   "codemirror_mode": {
    "name": "ipython",
    "version": 3
   },
   "file_extension": ".py",
   "mimetype": "text/x-python",
   "name": "python",
   "nbconvert_exporter": "python",
   "pygments_lexer": "ipython3",
   "version": "3.7.3"
  }
 },
 "nbformat": 4,
 "nbformat_minor": 2
}
